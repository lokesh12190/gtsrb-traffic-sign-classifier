{
 "cells": [
  {
   "cell_type": "code",
   "execution_count": null,
   "id": "9797cf41",
   "metadata": {},
   "outputs": [],
   "source": [
    "import zipfile\n",
    "import os\n",
    "\n",
    "def extract_zip(zip_path, extract_to='.'):\n",
    "    if not zipfile.is_zipfile(zip_path):\n",
    "        print(f\"{zip_path} is not a valid ZIP file.\")\n",
    "        return\n",
    "\n",
    "    with zipfile.ZipFile(zip_path, 'r') as zip_ref:\n",
    "        zip_ref.extractall(extract_to)\n",
    "        print(f\"Extracted all files from '{zip_path}' to '{extract_to}'\")\n",
    "\n",
    "# Example usage\n",
    "zip_file = '/data/cat/ws/srka007f-CV_project/GTSRB.zip'         # Replace with your ZIP file path\n",
    "output_folder = '/data/cat/ws/srka007f-CV_project/GTSRB'  # Folder to extract to\n",
    "\n",
    "# Make sure the output directory exists\n",
    "os.makedirs(output_folder, exist_ok=True)\n",
    "\n",
    "extract_zip(zip_file, output_folder)\n"
   ]
  }
 ],
 "metadata": {
  "kernelspec": {
   "display_name": "Python 3",
   "language": "python",
   "name": "python3"
  },
  "language_info": {
   "name": "python",
   "version": "3.11.13"
  }
 },
 "nbformat": 4,
 "nbformat_minor": 5
}
